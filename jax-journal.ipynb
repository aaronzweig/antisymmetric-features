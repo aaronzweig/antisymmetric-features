{
 "cells": [
  {
   "cell_type": "code",
   "execution_count": 1,
   "id": "178732ff",
   "metadata": {},
   "outputs": [],
   "source": [
    "import numpy as np\n",
    "import matplotlib as mpl\n",
    "import matplotlib.pyplot as plt\n",
    "import math\n",
    "\n",
    "import jax\n",
    "import jax.numpy as jnp\n",
    "import flax\n",
    "from flax import linen as nn\n",
    "from flax.training import train_state\n",
    "from jax.nn import initializers\n",
    "import optax\n",
    "\n",
    "%matplotlib inline"
   ]
  },
  {
   "cell_type": "code",
   "execution_count": 26,
   "id": "e4d96139",
   "metadata": {},
   "outputs": [],
   "source": [
    "class Block(nn.Module):\n",
    "    hidden_dim : int\n",
    "    output_dim : int\n",
    "\n",
    "    def setup(self):\n",
    "        self.linear1 = nn.Dense(features=self.hidden_dim, kernel_init = initializers.kaiming_uniform(), \n",
    "                                )\n",
    "        self.linear2 = nn.Dense(features=self.output_dim, kernel_init = initializers.kaiming_uniform(), \n",
    "                                )\n",
    "    def __call__(self, x):\n",
    "        x = self.linear1(x)\n",
    "        x = nn.relu(x)\n",
    "        x = self.linear2(x)\n",
    "        return x\n",
    "    \n",
    "class OddProjBlock(nn.Module):\n",
    "    hidden_dim : int\n",
    "    output_dim : int\n",
    "    \n",
    "    def setup(self):\n",
    "        self.fc1 = nn.Dense(features=self.hidden_dim, kernel_init = initializers.kaiming_uniform(), \n",
    "                                )\n",
    "        self.fc2 = nn.Dense(features = self.output_dim, kernel_init = initializers.kaiming_uniform(),  use_bias = False)\n",
    "    \n",
    "    def __call__(self, x):\n",
    "        x = jnp.concatenate([nn.relu(self.fc1(x)) - nn.relu(self.fc1(-x)), x], axis = 1)\n",
    "        x = self.fc2(x)\n",
    "        return x    "
   ]
  },
  {
   "cell_type": "code",
   "execution_count": 27,
   "id": "1dd5c329",
   "metadata": {},
   "outputs": [],
   "source": [
    "class SlaterDeterminant(nn.Module):\n",
    "    hidden_dim : int\n",
    "    n : int\n",
    "\n",
    "    def setup(self):\n",
    "        self.orbitals = Block(hidden_dim=self.hidden_dim, output_dim=self.n)\n",
    "\n",
    "    def __call__(self, x):\n",
    "        x = self.orbitals(x)\n",
    "        x = jax.scipy.linalg.det(x)\n",
    "        return x"
   ]
  },
  {
   "cell_type": "code",
   "execution_count": 28,
   "id": "3b87a29b",
   "metadata": {},
   "outputs": [],
   "source": [
    "class MultiSlaterDeterminant(nn.Module):\n",
    "    hidden_dim : int\n",
    "    anti_dim : int\n",
    "    n : int\n",
    "\n",
    "    def setup(self):\n",
    "        self.orbitals = [Block(hidden_dim=self.hidden_dim, output_dim=self.n) for _ in range(self.anti_dim)]\n",
    "\n",
    "    def __call__(self, x):\n",
    "        sds = [f(x) for f in self.orbitals]\n",
    "        sds = jnp.stack(sds, axis = 1)\n",
    "        x = jax.scipy.linalg.det(sds)\n",
    "        return jnp.sum(x, axis = 1)"
   ]
  },
  {
   "cell_type": "code",
   "execution_count": 29,
   "id": "45ec62d5",
   "metadata": {},
   "outputs": [],
   "source": [
    "class AntiNet(nn.Module):\n",
    "    hidden_dim : int\n",
    "    anti_dim : int\n",
    "    n : int\n",
    "\n",
    "    def setup(self):\n",
    "        self.orbitals = [Block(hidden_dim=self.hidden_dim, output_dim=self.n) for _ in range(self.anti_dim)]\n",
    "        self.g = OddProjBlock(hidden_dim=self.hidden_dim, output_dim=1)\n",
    "\n",
    "    def __call__(self, x):\n",
    "        sds = [f(x) for f in self.orbitals]\n",
    "        sds = jnp.stack(sds, axis = 1)\n",
    "        x = jax.scipy.linalg.det(sds)\n",
    "        x = self.g(x)\n",
    "        return jnp.ravel(x)"
   ]
  },
  {
   "cell_type": "code",
   "execution_count": 30,
   "id": "190819a3",
   "metadata": {},
   "outputs": [],
   "source": [
    "class DeepAntiNet(nn.Module):\n",
    "    hidden_dim : int\n",
    "    anti_dim : int\n",
    "    n : int\n",
    "\n",
    "    def setup(self):\n",
    "        self.orbitals = [Block(hidden_dim=self.hidden_dim, output_dim=self.n) for _ in range(self.anti_dim)]\n",
    "        self.g1 = OddProjBlock(hidden_dim=self.hidden_dim, output_dim=self.hidden_dim)\n",
    "        self.g2 = OddProjBlock(hidden_dim=self.hidden_dim, output_dim=1)\n",
    "\n",
    "\n",
    "    def __call__(self, x):\n",
    "        sds = [f(x) for f in self.orbitals]\n",
    "        sds = jnp.stack(sds, axis = 1)\n",
    "        x = jax.scipy.linalg.det(sds)\n",
    "        x = self.g1(x)\n",
    "        x = self.g2(x)\n",
    "        return jnp.ravel(x)"
   ]
  },
  {
   "cell_type": "code",
   "execution_count": 31,
   "id": "52516fc6",
   "metadata": {},
   "outputs": [
    {
     "name": "stdout",
     "output_type": "stream",
     "text": [
      "[-1.0705532 49.222343 ]\n",
      "[-1.0705531]\n",
      "[49.22234]\n"
     ]
    }
   ],
   "source": [
    "#Validate Batching\n",
    "n = 5\n",
    "d = 3\n",
    "anti_dim = 4\n",
    "hidden_dim = 20\n",
    "rng = jax.random.PRNGKey(42)\n",
    "\n",
    "# SD = SlaterDeterminant(hidden_dim = hidden_dim, n = n)\n",
    "# SD = MultiSlaterDeterminant(hidden_dim = hidden_dim, n = n, anti_dim = anti_dim)\n",
    "SD = AntiNet(hidden_dim = hidden_dim, n = n, anti_dim = anti_dim)\n",
    "\n",
    "\n",
    "rng, inp_rng, init_rng = jax.random.split(rng, 3)\n",
    "inp = jax.random.normal(inp_rng, (2, n, d))\n",
    "params = SD.init(init_rng, inp)\n",
    "\n",
    "\n",
    "\n",
    "print(SD.apply(params, inp))\n",
    "print(SD.apply(params, inp[:1]))\n",
    "print(SD.apply(params, inp[1:]))"
   ]
  },
  {
   "cell_type": "code",
   "execution_count": 32,
   "id": "56bcb147",
   "metadata": {},
   "outputs": [
    {
     "name": "stdout",
     "output_type": "stream",
     "text": [
      "[[[-0.57649416  0.24882974  2.0914953 ]\n",
      "  [ 0.7997544   0.12270966  2.237492  ]\n",
      "  [-0.48119685  0.66588587 -1.2084068 ]\n",
      "  [ 0.17537078  0.08046822  1.1909232 ]\n",
      "  [-0.8474577  -2.2422376  -0.07337539]]]\n",
      "[[[ 0.7997544   0.12270966  2.237492  ]\n",
      "  [-0.57649416  0.24882974  2.0914953 ]\n",
      "  [-0.48119685  0.66588587 -1.2084068 ]\n",
      "  [ 0.17537078  0.08046822  1.1909232 ]\n",
      "  [-0.8474577  -2.2422376  -0.07337539]]]\n",
      "(1, 5, 3)\n",
      "[-12.200166] [12.200166]\n"
     ]
    }
   ],
   "source": [
    "#Validate antisymmetry\n",
    "\n",
    "#SD = SlaterDeterminant(hidden_dim = hidden_dim, n = n)\n",
    "#SD = MultiSlaterDeterminant(hidden_dim = hidden_dim, n = n, anti_dim = anti_dim)\n",
    "SD = DeepAntiNet(hidden_dim = hidden_dim, n = n, anti_dim = anti_dim)\n",
    "\n",
    "\n",
    "rng, inp_rng, init_rng = jax.random.split(rng, 3)\n",
    "inp = jax.random.normal(inp_rng, (n, d))\n",
    "\n",
    "P = jnp.eye(n)\n",
    "P = P.at[0,0].set(0)\n",
    "P = P.at[0,1].set(1)\n",
    "P = P.at[1,0].set(1)\n",
    "P = P.at[1,1].set(0)\n",
    "\n",
    "inp_ = jnp.dot(P, inp)\n",
    "inp = jnp.expand_dims(inp, 0)\n",
    "inp_ = jnp.expand_dims(inp_, 0)\n",
    "\n",
    "print(inp)\n",
    "print(inp_)\n",
    "\n",
    "print(inp.shape)\n",
    "params = SD.init(init_rng, inp)\n",
    "\n",
    "\n",
    "\n",
    "y = SD.apply(params, inp)\n",
    "y_ = SD.apply(params, inp_)\n",
    "\n",
    "print(y,y_)"
   ]
  },
  {
   "cell_type": "code",
   "execution_count": 59,
   "id": "2be2db5b",
   "metadata": {},
   "outputs": [],
   "source": [
    "def calculate_loss(state, params, batch):\n",
    "    x, y = batch\n",
    "    outputs = state.apply_fn(params, x)\n",
    "    loss = 2.0 * optax.l2_loss(outputs, y).mean()\n",
    "    return loss\n",
    "\n",
    "@jax.jit\n",
    "def train_step(state, batch):\n",
    "    grad_fn = jax.value_and_grad(calculate_loss,\n",
    "                                 argnums=1  # Parameters are second argument of the function\n",
    "                                )\n",
    "    loss, grads = grad_fn(state, state.params, batch)\n",
    "    state = state.apply_gradients(grads=grads)\n",
    "    return state, loss\n",
    "\n",
    "def train(model, params, x, y, iterations, lr=0.005):\n",
    "    optimizer = optax.adam(learning_rate=lr)\n",
    "    batch = (x,y)\n",
    "    \n",
    "    state = train_state.TrainState.create(apply_fn=model.apply,\n",
    "                                            params=params,\n",
    "                                            tx=optimizer)\n",
    "\n",
    "    losses = []\n",
    "    for i in range(iterations):\n",
    "                \n",
    "        state, loss = train_step(state, batch)\n",
    "        losses.append(loss)\n",
    "    \n",
    "    return losses, state"
   ]
  },
  {
   "cell_type": "code",
   "execution_count": 60,
   "id": "94487cac",
   "metadata": {},
   "outputs": [],
   "source": [
    "##########################################################################################"
   ]
  },
  {
   "cell_type": "code",
   "execution_count": 83,
   "id": "4f81b5bb",
   "metadata": {},
   "outputs": [],
   "source": [
    "n = 5\n",
    "d = 3\n",
    "hidden_dim = 25\n",
    "anti_dim = 10\n",
    "\n",
    "iterations = 10000\n",
    "samples = 4000"
   ]
  },
  {
   "cell_type": "code",
   "execution_count": 84,
   "id": "c535103d",
   "metadata": {},
   "outputs": [],
   "source": [
    "teacher = MultiSlaterDeterminant(hidden_dim = hidden_dim, n = n, anti_dim = 200)\n",
    "rng, inp_rng, init_rng = jax.random.split(rng, 3)\n",
    "inp = jax.random.normal(inp_rng, (2, n, d))\n",
    "teacher_params = teacher.init(init_rng, inp)\n",
    "\n",
    "#train_x = 5 * jax.random.normal(inp_rng, (2000, n, d))  ### This lead to too large y values??\n",
    "train_x = jax.random.normal(inp_rng, (samples, n, d))\n",
    "train_y = teacher.apply(teacher_params, train_x)"
   ]
  },
  {
   "cell_type": "code",
   "execution_count": 85,
   "id": "bf036599",
   "metadata": {},
   "outputs": [],
   "source": [
    "# student = MultiSlaterDeterminant(hidden_dim = hidden_dim, n = n, anti_dim = anti_dim)\n",
    "# rng, inp_rng, init_rng = jax.random.split(rng, 3)\n",
    "# inp = jax.random.normal(inp_rng, (2, n, d))\n",
    "# student_params = teacher.init(init_rng, inp)\n",
    "\n",
    "# losses, state = train(student, student_params, train_x, train_y, iterations, lr = 0.005)\n",
    "# print(losses[::50])\n",
    "# print(min(losses))"
   ]
  },
  {
   "cell_type": "code",
   "execution_count": 86,
   "id": "e9af797d",
   "metadata": {},
   "outputs": [],
   "source": [
    "# test_y = student.apply(state.params, train_x)\n",
    "# print(test_y)\n",
    "# print(train_y)"
   ]
  },
  {
   "cell_type": "code",
   "execution_count": 87,
   "id": "5afe2f66",
   "metadata": {},
   "outputs": [],
   "source": [
    "########################################################################################"
   ]
  },
  {
   "cell_type": "code",
   "execution_count": 89,
   "id": "138075d7",
   "metadata": {},
   "outputs": [
    {
     "name": "stdout",
     "output_type": "stream",
     "text": [
      "64.72303\n",
      "80.0083\n",
      "70.748505\n"
     ]
    }
   ],
   "source": [
    "for _ in range(3):\n",
    "    student = MultiSlaterDeterminant(hidden_dim = hidden_dim, n = n, anti_dim = anti_dim)\n",
    "    rng, inp_rng, init_rng = jax.random.split(rng, 3)\n",
    "    inp = jax.random.normal(inp_rng, (2, n, d))\n",
    "    student_params = student.init(init_rng, inp)\n",
    "\n",
    "    losses, state = train(student, student_params, train_x, train_y, iterations, lr = 0.0025)\n",
    "    #print(losses[::50])\n",
    "    print(min(losses))"
   ]
  },
  {
   "cell_type": "code",
   "execution_count": 90,
   "id": "c8787676",
   "metadata": {},
   "outputs": [
    {
     "name": "stdout",
     "output_type": "stream",
     "text": [
      "68.18513\n",
      "64.681435\n",
      "63.388844\n"
     ]
    }
   ],
   "source": [
    "for _ in range(3):\n",
    "    student = AntiNet(hidden_dim = hidden_dim, n = n, anti_dim = anti_dim)\n",
    "    rng, inp_rng, init_rng = jax.random.split(rng, 3)\n",
    "    inp = jax.random.normal(inp_rng, (2, n, d))\n",
    "    student_params = student.init(init_rng, inp)\n",
    "\n",
    "    losses, state = train(student, student_params, train_x, train_y, iterations, lr = 0.0025)\n",
    "    #print(losses[::50])\n",
    "    print(min(losses))"
   ]
  },
  {
   "cell_type": "code",
   "execution_count": 91,
   "id": "3387989e",
   "metadata": {},
   "outputs": [
    {
     "name": "stdout",
     "output_type": "stream",
     "text": [
      "57.11024\n",
      "57.373543\n",
      "60.08668\n"
     ]
    }
   ],
   "source": [
    "for _ in range(3):\n",
    "    student = DeepAntiNet(hidden_dim = hidden_dim, n = n, anti_dim = anti_dim)\n",
    "    rng, inp_rng, init_rng = jax.random.split(rng, 3)\n",
    "    inp = jax.random.normal(inp_rng, (2, n, d))\n",
    "    student_params = student.init(init_rng, inp)\n",
    "\n",
    "    losses, state = train(student, student_params, train_x, train_y, iterations, lr = 0.0025)\n",
    "    #print(losses[::50])\n",
    "    print(min(losses))"
   ]
  },
  {
   "cell_type": "code",
   "execution_count": null,
   "id": "091b5507",
   "metadata": {},
   "outputs": [],
   "source": [
    "a = np.array([6.588473796844482, 6.398560047149658, 7.056000232696533])\n",
    "b = np.array([6.899078845977783, 5.879907608032227, 5.7301530838012695])\n",
    "c = np.array([4.987086296081543, 4.876344203948975, 4.408130645751953])\n",
    "\n",
    "x_pos = np.arange(3)\n",
    "names = [\"Default\", \"One Extra Layer\", \"Two Extra Layers\"]\n",
    "means = [np.mean(a), np.mean(b), np.mean(c)]\n",
    "stds = [np.std(a), np.std(b), np.std(c)]\n",
    "\n",
    "\n",
    "fig, ax = plt.subplots()\n",
    "ax.bar(x_pos, means, yerr=stds, align='center', alpha=0.5, ecolor='black', capsize=10)\n",
    "ax.set_ylabel('Mean Squared Error')\n",
    "ax.set_xticks(x_pos)\n",
    "ax.set_xticklabels(names)\n",
    "ax.yaxis.grid(True)\n",
    "\n",
    "# Save the figure and show\n",
    "plt.tight_layout()\n",
    "plt.savefig('bar_plot_with_error_bars.png')\n",
    "plt.show()"
   ]
  },
  {
   "cell_type": "code",
   "execution_count": null,
   "id": "6db6d291",
   "metadata": {},
   "outputs": [],
   "source": []
  }
 ],
 "metadata": {
  "kernelspec": {
   "display_name": "Python [conda env:prime] *",
   "language": "python",
   "name": "conda-env-prime-py"
  },
  "language_info": {
   "codemirror_mode": {
    "name": "ipython",
    "version": 3
   },
   "file_extension": ".py",
   "mimetype": "text/x-python",
   "name": "python",
   "nbconvert_exporter": "python",
   "pygments_lexer": "ipython3",
   "version": "3.10.4"
  }
 },
 "nbformat": 4,
 "nbformat_minor": 5
}
